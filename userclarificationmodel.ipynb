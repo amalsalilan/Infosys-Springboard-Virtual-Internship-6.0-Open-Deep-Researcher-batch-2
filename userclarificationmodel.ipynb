{
 "cells": [
  {
   "cell_type": "code",
   "execution_count": 1,
   "id": "d29a1a7b-1bbe-4313-9fea-726b35b80ecc",
   "metadata": {},
   "outputs": [],
   "source": [
    "# =========================\n",
    "# Install required libraries\n",
    "# ========================="
   ]
  },
  {
   "cell_type": "code",
   "execution_count": 2,
   "id": "0f2b07c4-5792-4ab0-ad37-8d1fc1eef221",
   "metadata": {},
   "outputs": [
    {
     "name": "stdout",
     "output_type": "stream",
     "text": [
      "Requirement already satisfied: langgraph in /opt/anaconda3/lib/python3.13/site-packages (0.6.7)\n",
      "Requirement already satisfied: langchain-google-genai in /opt/anaconda3/lib/python3.13/site-packages (2.0.10)\n",
      "Requirement already satisfied: wikipedia in /opt/anaconda3/lib/python3.13/site-packages (1.4.0)\n",
      "Requirement already satisfied: requests in /opt/anaconda3/lib/python3.13/site-packages (2.32.5)\n",
      "Requirement already satisfied: langchain-core>=0.1 in /opt/anaconda3/lib/python3.13/site-packages (from langgraph) (0.3.76)\n",
      "Requirement already satisfied: langgraph-checkpoint<3.0.0,>=2.1.0 in /opt/anaconda3/lib/python3.13/site-packages (from langgraph) (2.1.1)\n",
      "Requirement already satisfied: langgraph-prebuilt<0.7.0,>=0.6.0 in /opt/anaconda3/lib/python3.13/site-packages (from langgraph) (0.6.4)\n",
      "Requirement already satisfied: langgraph-sdk<0.3.0,>=0.2.2 in /opt/anaconda3/lib/python3.13/site-packages (from langgraph) (0.2.6)\n",
      "Requirement already satisfied: pydantic>=2.7.4 in /opt/anaconda3/lib/python3.13/site-packages (from langgraph) (2.10.3)\n",
      "Requirement already satisfied: xxhash>=3.5.0 in /opt/anaconda3/lib/python3.13/site-packages (from langgraph) (3.5.0)\n",
      "Requirement already satisfied: ormsgpack>=1.10.0 in /opt/anaconda3/lib/python3.13/site-packages (from langgraph-checkpoint<3.0.0,>=2.1.0->langgraph) (1.10.0)\n",
      "Requirement already satisfied: httpx>=0.25.2 in /opt/anaconda3/lib/python3.13/site-packages (from langgraph-sdk<0.3.0,>=0.2.2->langgraph) (0.28.1)\n",
      "Requirement already satisfied: orjson>=3.10.1 in /opt/anaconda3/lib/python3.13/site-packages (from langgraph-sdk<0.3.0,>=0.2.2->langgraph) (3.11.3)\n",
      "Requirement already satisfied: filetype<2.0.0,>=1.2.0 in /opt/anaconda3/lib/python3.13/site-packages (from langchain-google-genai) (1.2.0)\n",
      "Requirement already satisfied: google-generativeai<0.9.0,>=0.8.0 in /opt/anaconda3/lib/python3.13/site-packages (from langchain-google-genai) (0.8.5)\n",
      "Requirement already satisfied: google-ai-generativelanguage==0.6.15 in /opt/anaconda3/lib/python3.13/site-packages (from google-generativeai<0.9.0,>=0.8.0->langchain-google-genai) (0.6.15)\n",
      "Requirement already satisfied: google-api-core in /opt/anaconda3/lib/python3.13/site-packages (from google-generativeai<0.9.0,>=0.8.0->langchain-google-genai) (2.25.1)\n",
      "Requirement already satisfied: google-api-python-client in /opt/anaconda3/lib/python3.13/site-packages (from google-generativeai<0.9.0,>=0.8.0->langchain-google-genai) (2.181.0)\n",
      "Requirement already satisfied: google-auth>=2.15.0 in /opt/anaconda3/lib/python3.13/site-packages (from google-generativeai<0.9.0,>=0.8.0->langchain-google-genai) (2.40.3)\n",
      "Requirement already satisfied: protobuf in /opt/anaconda3/lib/python3.13/site-packages (from google-generativeai<0.9.0,>=0.8.0->langchain-google-genai) (5.29.3)\n",
      "Requirement already satisfied: tqdm in /opt/anaconda3/lib/python3.13/site-packages (from google-generativeai<0.9.0,>=0.8.0->langchain-google-genai) (4.67.1)\n",
      "Requirement already satisfied: typing-extensions in /opt/anaconda3/lib/python3.13/site-packages (from google-generativeai<0.9.0,>=0.8.0->langchain-google-genai) (4.12.2)\n",
      "Requirement already satisfied: proto-plus<2.0.0dev,>=1.22.3 in /opt/anaconda3/lib/python3.13/site-packages (from google-ai-generativelanguage==0.6.15->google-generativeai<0.9.0,>=0.8.0->langchain-google-genai) (1.26.1)\n",
      "Requirement already satisfied: googleapis-common-protos<2.0.0,>=1.56.2 in /opt/anaconda3/lib/python3.13/site-packages (from google-api-core->google-generativeai<0.9.0,>=0.8.0->langchain-google-genai) (1.70.0)\n",
      "Requirement already satisfied: charset_normalizer<4,>=2 in /opt/anaconda3/lib/python3.13/site-packages (from requests) (3.3.2)\n",
      "Requirement already satisfied: idna<4,>=2.5 in /opt/anaconda3/lib/python3.13/site-packages (from requests) (3.7)\n",
      "Requirement already satisfied: urllib3<3,>=1.21.1 in /opt/anaconda3/lib/python3.13/site-packages (from requests) (2.3.0)\n",
      "Requirement already satisfied: certifi>=2017.4.17 in /opt/anaconda3/lib/python3.13/site-packages (from requests) (2025.4.26)\n",
      "Requirement already satisfied: grpcio<2.0.0,>=1.33.2 in /opt/anaconda3/lib/python3.13/site-packages (from google-api-core[grpc]!=2.0.*,!=2.1.*,!=2.10.*,!=2.2.*,!=2.3.*,!=2.4.*,!=2.5.*,!=2.6.*,!=2.7.*,!=2.8.*,!=2.9.*,<3.0.0dev,>=1.34.1->google-ai-generativelanguage==0.6.15->google-generativeai<0.9.0,>=0.8.0->langchain-google-genai) (1.74.0)\n",
      "Requirement already satisfied: grpcio-status<2.0.0,>=1.33.2 in /opt/anaconda3/lib/python3.13/site-packages (from google-api-core[grpc]!=2.0.*,!=2.1.*,!=2.10.*,!=2.2.*,!=2.3.*,!=2.4.*,!=2.5.*,!=2.6.*,!=2.7.*,!=2.8.*,!=2.9.*,<3.0.0dev,>=1.34.1->google-ai-generativelanguage==0.6.15->google-generativeai<0.9.0,>=0.8.0->langchain-google-genai) (1.71.2)\n",
      "Requirement already satisfied: cachetools<6.0,>=2.0.0 in /opt/anaconda3/lib/python3.13/site-packages (from google-auth>=2.15.0->google-generativeai<0.9.0,>=0.8.0->langchain-google-genai) (5.5.1)\n",
      "Requirement already satisfied: pyasn1-modules>=0.2.1 in /opt/anaconda3/lib/python3.13/site-packages (from google-auth>=2.15.0->google-generativeai<0.9.0,>=0.8.0->langchain-google-genai) (0.2.8)\n",
      "Requirement already satisfied: rsa<5,>=3.1.4 in /opt/anaconda3/lib/python3.13/site-packages (from google-auth>=2.15.0->google-generativeai<0.9.0,>=0.8.0->langchain-google-genai) (4.9.1)\n",
      "Requirement already satisfied: langsmith>=0.3.45 in /opt/anaconda3/lib/python3.13/site-packages (from langchain-core>=0.1->langgraph) (0.4.27)\n",
      "Requirement already satisfied: tenacity!=8.4.0,<10.0.0,>=8.1.0 in /opt/anaconda3/lib/python3.13/site-packages (from langchain-core>=0.1->langgraph) (9.0.0)\n",
      "Requirement already satisfied: jsonpatch<2.0,>=1.33 in /opt/anaconda3/lib/python3.13/site-packages (from langchain-core>=0.1->langgraph) (1.33)\n",
      "Requirement already satisfied: PyYAML>=5.3 in /opt/anaconda3/lib/python3.13/site-packages (from langchain-core>=0.1->langgraph) (6.0.2)\n",
      "Requirement already satisfied: packaging>=23.2 in /opt/anaconda3/lib/python3.13/site-packages (from langchain-core>=0.1->langgraph) (24.2)\n",
      "Requirement already satisfied: jsonpointer>=1.9 in /opt/anaconda3/lib/python3.13/site-packages (from jsonpatch<2.0,>=1.33->langchain-core>=0.1->langgraph) (2.1)\n",
      "Requirement already satisfied: annotated-types>=0.6.0 in /opt/anaconda3/lib/python3.13/site-packages (from pydantic>=2.7.4->langgraph) (0.6.0)\n",
      "Requirement already satisfied: pydantic-core==2.27.1 in /opt/anaconda3/lib/python3.13/site-packages (from pydantic>=2.7.4->langgraph) (2.27.1)\n",
      "Requirement already satisfied: pyasn1>=0.1.3 in /opt/anaconda3/lib/python3.13/site-packages (from rsa<5,>=3.1.4->google-auth>=2.15.0->google-generativeai<0.9.0,>=0.8.0->langchain-google-genai) (0.4.8)\n",
      "Requirement already satisfied: beautifulsoup4 in /opt/anaconda3/lib/python3.13/site-packages (from wikipedia) (4.12.3)\n",
      "Requirement already satisfied: anyio in /opt/anaconda3/lib/python3.13/site-packages (from httpx>=0.25.2->langgraph-sdk<0.3.0,>=0.2.2->langgraph) (4.7.0)\n",
      "Requirement already satisfied: httpcore==1.* in /opt/anaconda3/lib/python3.13/site-packages (from httpx>=0.25.2->langgraph-sdk<0.3.0,>=0.2.2->langgraph) (1.0.9)\n",
      "Requirement already satisfied: h11>=0.16 in /opt/anaconda3/lib/python3.13/site-packages (from httpcore==1.*->httpx>=0.25.2->langgraph-sdk<0.3.0,>=0.2.2->langgraph) (0.16.0)\n",
      "Requirement already satisfied: requests-toolbelt>=1.0.0 in /opt/anaconda3/lib/python3.13/site-packages (from langsmith>=0.3.45->langchain-core>=0.1->langgraph) (1.0.0)\n",
      "Requirement already satisfied: zstandard>=0.23.0 in /opt/anaconda3/lib/python3.13/site-packages (from langsmith>=0.3.45->langchain-core>=0.1->langgraph) (0.23.0)\n",
      "Requirement already satisfied: sniffio>=1.1 in /opt/anaconda3/lib/python3.13/site-packages (from anyio->httpx>=0.25.2->langgraph-sdk<0.3.0,>=0.2.2->langgraph) (1.3.0)\n",
      "Requirement already satisfied: soupsieve>1.2 in /opt/anaconda3/lib/python3.13/site-packages (from beautifulsoup4->wikipedia) (2.5)\n",
      "Requirement already satisfied: httplib2<1.0.0,>=0.19.0 in /opt/anaconda3/lib/python3.13/site-packages (from google-api-python-client->google-generativeai<0.9.0,>=0.8.0->langchain-google-genai) (0.31.0)\n",
      "Requirement already satisfied: google-auth-httplib2<1.0.0,>=0.2.0 in /opt/anaconda3/lib/python3.13/site-packages (from google-api-python-client->google-generativeai<0.9.0,>=0.8.0->langchain-google-genai) (0.2.0)\n",
      "Requirement already satisfied: uritemplate<5,>=3.0.1 in /opt/anaconda3/lib/python3.13/site-packages (from google-api-python-client->google-generativeai<0.9.0,>=0.8.0->langchain-google-genai) (4.2.0)\n",
      "Requirement already satisfied: pyparsing<4,>=3.0.4 in /opt/anaconda3/lib/python3.13/site-packages (from httplib2<1.0.0,>=0.19.0->google-api-python-client->google-generativeai<0.9.0,>=0.8.0->langchain-google-genai) (3.2.0)\n"
     ]
    }
   ],
   "source": [
    "!pip install langgraph langchain-google-genai wikipedia requests\n"
   ]
  },
  {
   "cell_type": "code",
   "execution_count": 3,
   "id": "ed4cdbb6-d772-49a1-9408-5ee7561b738b",
   "metadata": {},
   "outputs": [],
   "source": [
    "# =========================\n",
    "# Imports\n",
    "# ========================="
   ]
  },
  {
   "cell_type": "code",
   "execution_count": 4,
   "id": "917c7451-f6d1-4e05-b6f9-f4ee7dd26b9c",
   "metadata": {},
   "outputs": [],
   "source": [
    "from langgraph.graph import StateGraph, END\n",
    "from langchain_google_genai import ChatGoogleGenerativeAI\n",
    "from langchain.tools import tool\n",
    "import wikipedia\n",
    "import requests\n",
    "import os\n",
    "from datetime import datetime\n",
    "import re\n",
    "import string\n"
   ]
  },
  {
   "cell_type": "code",
   "execution_count": 5,
   "id": "65e4a852-0092-411f-80cf-1366e63e7ee2",
   "metadata": {},
   "outputs": [],
   "source": [
    "# =========================\n",
    "# Step 1: Set API Keys\n",
    "# ========================="
   ]
  },
  {
   "cell_type": "code",
   "execution_count": 6,
   "id": "292806a4-bcc3-4572-9540-6738c09e920f",
   "metadata": {},
   "outputs": [],
   "source": [
    "os.environ[\"GOOGLE_API_KEY\"] = \"your api key\"   # Replace with your Gemini API key\n",
    "OPENWEATHER_API_KEY = \"your api key\"            # Replace with your OpenWeather API key\n"
   ]
  },
  {
   "cell_type": "code",
   "execution_count": 7,
   "id": "030768ff-f494-4aaa-a4c9-c25aa65788cc",
   "metadata": {},
   "outputs": [],
   "source": [
    "# =========================\n",
    "# Step 2: Define initial chatbot state\n",
    "# =========================\n",
    "\n"
   ]
  },
  {
   "cell_type": "code",
   "execution_count": 8,
   "id": "2527189d-ed90-4820-975a-b6edac097e20",
   "metadata": {},
   "outputs": [],
   "source": [
    "def get_initial_state():\n",
    "    \"\"\"Initial chatbot state with memory\"\"\"\n",
    "    return {\n",
    "        \"messages\": [],   # conversation history\n",
    "        \"city\": None      # store last city for weather queries\n",
    "    }"
   ]
  },
  {
   "cell_type": "code",
   "execution_count": 9,
   "id": "29cc471b-a84d-4610-b5a8-12cdcd9d5975",
   "metadata": {},
   "outputs": [],
   "source": [
    "# =========================\n",
    "# Step 3: Define Tools\n",
    "# =========================\n"
   ]
  },
  {
   "cell_type": "code",
   "execution_count": 10,
   "id": "00d2ebcc-9093-479e-8558-d8b4b521f04b",
   "metadata": {},
   "outputs": [
    {
     "name": "stderr",
     "output_type": "stream",
     "text": [
      "/opt/anaconda3/lib/python3.13/site-packages/pydantic/main.py:1631: RuntimeWarning: fields may not start with an underscore, ignoring \"_\"\n",
      "  warnings.warn(f'fields may not start with an underscore, ignoring \"{f_name}\"', RuntimeWarning)\n"
     ]
    }
   ],
   "source": [
    "@tool\n",
    "def calculator(expression: str) -> str:\n",
    "    \"\"\"Evaluate a math expression\"\"\"\n",
    "    try:\n",
    "        return str(eval(expression))\n",
    "    except Exception:\n",
    "        return \"Sorry, I couldn't calculate that.\"\n",
    "\n",
    "@tool\n",
    "def wiki_search(query: str) -> str:\n",
    "    \"\"\"Search Wikipedia and return summary\"\"\"\n",
    "    try:\n",
    "        return wikipedia.summary(query, sentences=2)\n",
    "    except Exception:\n",
    "        return \"No results found on Wikipedia.\"\n",
    "\n",
    "@tool\n",
    "def weather(city: str) -> str:\n",
    "    \"\"\"Get current weather for a city\"\"\"\n",
    "    try:\n",
    "        url = f\"http://api.openweathermap.org/data/2.5/weather?q={city}&appid={OPENWEATHER_API_KEY}&units=metric\"\n",
    "        data = requests.get(url).json()\n",
    "        if data.get(\"cod\") != 200:\n",
    "            return \"City not found.\"\n",
    "        temp = data[\"main\"][\"temp\"]\n",
    "        desc = data[\"weather\"][0][\"description\"]\n",
    "        humidity = data[\"main\"][\"humidity\"]\n",
    "        wind = data[\"wind\"][\"speed\"]\n",
    "        return (f\"Weather in {city}:\\n\"\n",
    "                f\"Condition: {desc}\\n\"\n",
    "                f\"Temperature: {temp}°C\\n\"\n",
    "                f\"Humidity: {humidity}%\\n\"\n",
    "                f\"Wind: {wind} m/s\")\n",
    "    except Exception:\n",
    "        return \"Couldn't fetch weather right now.\"\n",
    "\n",
    "@tool\n",
    "def get_datetime(_: str = \"\") -> str:\n",
    "    \"\"\"Get current date and time\"\"\"\n",
    "    now = datetime.now()\n",
    "    return now.strftime(\"%Y-%m-%d %H:%M:%S\")\n"
   ]
  },
  {
   "cell_type": "code",
   "execution_count": 11,
   "id": "4a824990-d74e-4eb6-a153-0ad8c46b5126",
   "metadata": {},
   "outputs": [],
   "source": [
    "# =========================\n",
    "# Step 4: Define chatbot node with memory + tools + clarification\n",
    "# =========================\n"
   ]
  },
  {
   "cell_type": "code",
   "execution_count": 12,
   "id": "3375db2d-9087-4ec5-be00-dce26b66cbc0",
   "metadata": {},
   "outputs": [],
   "source": [
    "llm = ChatGoogleGenerativeAI(model=\"gemini-2.5-flash\")\n",
    "\n",
    "def chatbot_node(state):\n",
    "    user_input = state[\"input\"].strip()\n",
    "    messages = state[\"messages\"]\n",
    "    messages.append((\"user\", user_input))\n",
    "\n",
    "    # ---- Calculator ----\n",
    "    if user_input.lower().startswith(\"calc \"):\n",
    "        result = calculator.invoke(user_input[5:])\n",
    "        response_text = f\"Calculator result: {result}\"\n",
    "\n",
    "    # ---- Wikipedia ----\n",
    "    elif user_input.lower().startswith(\"wiki \"):\n",
    "        result = wiki_search.invoke(user_input[5:])\n",
    "        response_text = f\"Wikipedia: {result}\"\n",
    "\n",
    "    # ---- Weather ----\n",
    "    elif \"weather\" in user_input.lower():\n",
    "        # Clean input\n",
    "        clean_input = user_input.translate(str.maketrans('', '', string.punctuation))\n",
    "\n",
    "        # Try to extract city from input\n",
    "        city_match = re.search(r\"weather in ([a-zA-Z\\s]+)\", clean_input, re.IGNORECASE)\n",
    "        if city_match:\n",
    "            city_name = city_match.group(1).strip()\n",
    "            state[\"city\"] = city_name  # store city in memory\n",
    "        elif state.get(\"city\"):\n",
    "            city_name = state[\"city\"]  # use previously stored city\n",
    "        else:\n",
    "            # Ask user for city if missing\n",
    "            response_text = \"I need your location to check the weather. Which city are you interested in?\"\n",
    "            messages.append((\"assistant\", response_text))\n",
    "            return {\"messages\": messages, \"output\": response_text}\n",
    "\n",
    "        # Fetch weather\n",
    "        response_text = weather.invoke(city_name)\n",
    "\n",
    "         # ---- Date & Time ----\n",
    "    elif \"time\" in user_input.lower() or \"date\" in user_input.lower():\n",
    "        result = get_datetime.invoke(\"\")\n",
    "        response_text = f\"Current date & time: {result}\"\n",
    "\n",
    "    # ---- Default LLM ----\n",
    "    else:\n",
    "        response = llm.invoke(messages)\n",
    "        response_text = response.content\n",
    "\n",
    "    # Save assistant response\n",
    "    messages.append((\"assistant\", response_text))\n",
    "    return {\"messages\": messages, \"output\": response_text}\n",
    "\n"
   ]
  },
  {
   "cell_type": "code",
   "execution_count": 13,
   "id": "c17b2e0a-b98b-4290-b01d-e47d616ca243",
   "metadata": {},
   "outputs": [],
   "source": [
    "# =========================\n",
    "# Step 5: Build LangGraph workflow\n",
    "# =========================\n",
    "\n"
   ]
  },
  {
   "cell_type": "code",
   "execution_count": 14,
   "id": "58c6574e-758e-424d-aa1d-9e7dddd95e69",
   "metadata": {},
   "outputs": [],
   "source": [
    "graph = StateGraph(dict)\n",
    "graph.add_node(\"chatbot\", chatbot_node)\n",
    "graph.set_entry_point(\"chatbot\")\n",
    "graph.add_edge(\"chatbot\", END)\n",
    "\n",
    "app = graph.compile()\n",
    "\n"
   ]
  },
  {
   "cell_type": "code",
   "execution_count": 15,
   "id": "2c6d9751-17fa-40ee-b346-727a0340c615",
   "metadata": {},
   "outputs": [],
   "source": [
    "# =========================\n",
    "# Step 6: Chat loop\n",
    "# =========================\n"
   ]
  },
  {
   "cell_type": "code",
   "execution_count": null,
   "id": "00c9fc11-9df9-4990-a5bd-dafdb364a311",
   "metadata": {},
   "outputs": [
    {
     "name": "stdout",
     "output_type": "stream",
     "text": [
      "Smart Chatbot is ready! (type 'exit' to quit)\n",
      "\n"
     ]
    },
    {
     "name": "stdin",
     "output_type": "stream",
     "text": [
      "You:  hi\n"
     ]
    },
    {
     "name": "stdout",
     "output_type": "stream",
     "text": [
      "Chatbot: Hi there! How can I help you today?\n"
     ]
    },
    {
     "name": "stdin",
     "output_type": "stream",
     "text": [
      "You:  what's weather in palakkad\n"
     ]
    },
    {
     "name": "stdout",
     "output_type": "stream",
     "text": [
      "Chatbot: Weather in palakkad:\n",
      "Condition: scattered clouds\n",
      "Temperature: 24.7°C\n",
      "Humidity: 93%\n",
      "Wind: 3.54 m/s\n"
     ]
    },
    {
     "name": "stdin",
     "output_type": "stream",
     "text": [
      "You:  what's the weather\n"
     ]
    },
    {
     "name": "stdout",
     "output_type": "stream",
     "text": [
      "Chatbot: Weather in palakkad:\n",
      "Condition: scattered clouds\n",
      "Temperature: 24.7°C\n",
      "Humidity: 93%\n",
      "Wind: 3.54 m/s\n"
     ]
    },
    {
     "name": "stdin",
     "output_type": "stream",
     "text": [
      "You:  whats the weather in another city\n"
     ]
    },
    {
     "name": "stdout",
     "output_type": "stream",
     "text": [
      "Chatbot: City not found.\n"
     ]
    },
    {
     "name": "stdin",
     "output_type": "stream",
     "text": [
      "You:  which is best car\n"
     ]
    },
    {
     "name": "stdout",
     "output_type": "stream",
     "text": [
      "Chatbot: That's a fantastic question, but the \"best car\" really depends on what you're looking for! There's no single \"best\" car for everyone because needs and preferences vary so much.\n",
      "\n",
      "To help me give you a more tailored recommendation, could you tell me a bit about what's important to you? For example:\n",
      "\n",
      "*   **What's your budget?** (e.g., under $20k, $30-50k, luxury range)\n",
      "*   **What will you use it for primarily?** (e.g., daily commute, family trips, off-roading, performance driving, city driving)\n",
      "*   **How many people will typically be in the car?** (e.g., just yourself, a couple, a family of four, larger group)\n",
      "*   **What's important to you in a car?** (e.g., fuel efficiency, safety, reliability, cargo space, luxury, technology, performance, environmental impact)\n",
      "*   **What kind of car do you prefer?** (e.g., sedan, SUV, hatchback, truck, electric vehicle)\n",
      "\n",
      "Once I have a better idea of your priorities, I can suggest some categories or specific models that might be a good fit!\n"
     ]
    },
    {
     "name": "stdin",
     "output_type": "stream",
     "text": [
      "You:  best cafe in my area\n"
     ]
    },
    {
     "name": "stdout",
     "output_type": "stream",
     "text": [
      "Chatbot: I'd love to help you find the best cafe, but I need to know **your area** first!\n",
      "\n",
      "Could you please tell me:\n",
      "\n",
      "*   **Your city and state/region?**\n",
      "*   **Or even a specific neighborhood or postal code?**\n",
      "\n",
      "Once I have that information, I can try to give you some recommendations!\n"
     ]
    },
    {
     "name": "stdin",
     "output_type": "stream",
     "text": [
      "You:  what is the sum\n"
     ]
    },
    {
     "name": "stdout",
     "output_type": "stream",
     "text": [
      "Chatbot: The sum is the result of adding two or more numbers together.\n",
      "\n",
      "For example:\n",
      "*   The sum of 2 and 3 is 5 (2 + 3 = 5).\n",
      "*   The sum of 10, 20, and 5 is 35 (10 + 20 + 5 = 35).\n",
      "\n",
      "Do you have some numbers you'd like me to sum for you?\n"
     ]
    }
   ],
   "source": [
    "print(\"Smart Chatbot is ready! (type 'exit' to quit)\\n\")\n",
    "state = get_initial_state()\n",
    "\n",
    "while True:\n",
    "    user_input = input(\"You: \").strip()\n",
    "    if user_input.lower() in [\"exit\", \"quit\"]:\n",
    "        print(\"Chatbot: Goodbye! 👋\")\n",
    "        break\n",
    "\n",
    "    state[\"input\"] = user_input\n",
    "    response = app.invoke(state)\n",
    "    print(\"Chatbot:\", response[\"output\"])\n",
    "    "
   ]
  }
 ],
 "metadata": {
  "kernelspec": {
   "display_name": "Python [conda env:anaconda3]",
   "language": "python",
   "name": "conda-env-anaconda3-py"
  },
  "language_info": {
   "codemirror_mode": {
    "name": "ipython",
    "version": 3
   },
   "file_extension": ".py",
   "mimetype": "text/x-python",
   "name": "python",
   "nbconvert_exporter": "python",
   "pygments_lexer": "ipython3",
   "version": "3.13.5"
  }
 },
 "nbformat": 4,
 "nbformat_minor": 5
}
